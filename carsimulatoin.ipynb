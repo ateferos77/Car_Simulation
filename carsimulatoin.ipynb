{
 "cells": [
  {
   "cell_type": "markdown",
   "metadata": {},
   "source": [
    "## Anatomy of a Car."
   ]
  },
  {
   "cell_type": "markdown",
   "metadata": {},
   "source": [
    "You design a new car by specifying a series of sizes. They are grouped into the following categories:\n",
    "\n",
    "1. the frame length (total length of the car);\n",
    "2. the shape of the upper profile;\n",
    "3. the shape of the lower profile;\n",
    "4. the first wheel;\n",
    "5. the second wheel.\n",
    "\n",
    "See the picture below for reference:"
   ]
  },
  {
   "cell_type": "markdown",
   "metadata": {},
   "source": [
    "<img src=\"https://sales.bio.unipd.it/assets/carsim/car_model.png\" width=\"600px\">"
   ]
  },
  {
   "cell_type": "markdown",
   "metadata": {},
   "source": [
    "### 1. Frame Length\n",
    "\n",
    "This is a single floating point number representing the entire length of the car, from the front to the rear. The allowed range is comprised between 2.0 and 6.0 meters.\n",
    "\n",
    "### 2. Upper Shape\n",
    "\n",
    "The upper profile of the car is described by 5 floating point numbers. Each of them describes the height of the frame at equi‑spaced points along the car, from left (back) to right (front).\n",
    "\n",
    "Example: the array [0.5, 0.7, 1.3, 0.8, 0.5] would correspond to the picture above.\n",
    "\n",
    "### 3. Lower Shape\n",
    "\n",
    "The lower profile of the car is described by 5 floating point numbers. Each of them describes the height of the frame at equi‑spaced points along the car, from left (back) to right (front).\n",
    "\n",
    "Example: the array [0.5, 0.7, 0.4, 0.6, 0.5] would correspond to the picture above.\n",
    "\n",
    "### Shape Constraints\n",
    "\n",
    "For manufacturing purposes, the car cannot be either too high or too thin. In numbers, this mean that the **total** height (lower shape + upper shape at any of the 5 provided points) must be comprised between 0.5 and 5.0.  \n",
    "\n",
    "Example: the sum of the lower and the upper shapes shown before is\n",
    "\n",
    "`[0.5, 0.7, 1.3, 0.8, 0.5] + [0.5, 0.7, 0.4, 0.6, 0.5] = [1.0, 1.4, 1.7, 1.4, 1.0]`\n",
    "\n",
    "This car respects the manufacturing constraints.\n",
    "\n",
    "### 4. Left Wheel\n",
    "\n",
    "The left wheel is defined by two numbers.\n",
    "\n",
    "1. its position along the car frame. A real number between 0.0 (wheel at the extreme left, back of the car) and 1.0 (wheel at the extreme right, front of the car);\n",
    "2. its radius (between 0 and 2 meters).\n",
    "\n",
    "Example: the left wheel of the picture above is defined as [0.1, 0.5].\n",
    "\n",
    "### 5. Right Wheel\n",
    "\n",
    "The right wheel is defined by two numbers.\n",
    "\n",
    "1. its position along the car frame. A real number between 0.0 (wheel at the extreme left, back of the car) and 1.0 (wheel at the extreme right, front of the car);\n",
    "2. its radius (between 0 and 2 meters).\n",
    "\n",
    "Example: the right wheel of the picture above is defined as [0.9, 0.8]."
   ]
  },
  {
   "cell_type": "markdown",
   "metadata": {},
   "source": [
    "# Simulator"
   ]
  },
  {
   "cell_type": "markdown",
   "metadata": {},
   "source": [
    "To make the car run along a track, we will use a simulator provided by the test driving team.\n",
    "\n",
    "You will need to import a few libraries."
   ]
  },
  {
   "cell_type": "code",
   "execution_count": 3,
   "metadata": {
    "collapsed": false,
    "jupyter": {
     "outputs_hidden": false
    }
   },
   "outputs": [
    {
     "name": "stdout",
     "output_type": "stream",
     "text": [
      "Simulator started.\n",
      "\n",
      "Now open the webpage at this address in a separate browser window: http://localhost:41174/\n"
     ]
    }
   ],
   "source": [
    "import carsim\n",
    "import numpy as np"
   ]
  },
  {
   "cell_type": "markdown",
   "metadata": {},
   "source": [
    "Do as the text above tells you. Open that URL in a **separate** browser window (right click on the link and select \"Open in a new window\").\n",
    "\n",
    "From this point on you have access to three useful functions.\n",
    "\n",
    "### carsim.simulate\n",
    "\n",
    "This function takes the following arguments: `frame_length, upper_shape, lower_shape, left_wheel, right_wheel`. That is, the spec of a car.\n",
    "\n",
    "It then build the vehicle and brings it to the test track. You can follow the test drive in the other browser window (titled \"Car Simulator Dashboard\").\n",
    "\n",
    "### carsim.race\n",
    "\n",
    "Takes a list of car blueprints. Each car is represented as a tuple of the form:\n",
    "\n",
    "```(frame_length, upper_shape, lower_shape, left_wheel, right_wheel)```\n",
    "\n",
    "The function will accept any number of cars between 1 and 100 (included).\n",
    "\n",
    "It then starts a race among all the cars, measuring how well each performed on the track.\n",
    "\n",
    "The return value `res` is a N by 2 matrix (where N is the number of cars).\n",
    "* the first column contains the fraction of the track that was covered by the car (0.0 meaning the car didn't even start; 1.0 meaning that the car reached the finish line);\n",
    "* the second column measures how many seconds it took to the car to finish its race.\n",
    "\n",
    "Example: res[2, 1] is how long the race of the third car lasted.\n",
    "\n",
    "<div class=\"alert alert-warning\" style=\"margin-top:1em\">\n",
    "The race <strong>won't</strong> be shown in the Simulator Dashboard.\n",
    "</div>\n",
    "\n",
    "### carsim.new_track\n",
    "\n",
    "If you don't like the race track, you can change the location with this function. The new track will be used for the following simulations and races."
   ]
  },
  {
   "cell_type": "markdown",
   "metadata": {},
   "source": [
    "## Your Turn"
   ]
  },
  {
   "cell_type": "markdown",
   "metadata": {},
   "source": [
    "It is now time to design the best possible car for offroad racing.\n",
    "\n",
    "Develop a genetic algorithm for testing out different random designs and to pick the best performing car.\n",
    "\n",
    "You may find the following functions useful:\n",
    "\n",
    "* *np.random.rand*: generate a random integer in the interval [0, 1)."
   ]
  },
  {
   "cell_type": "code",
   "execution_count": 4,
   "metadata": {
    "collapsed": false,
    "jupyter": {
     "outputs_hidden": false
    }
   },
   "outputs": [
    {
     "data": {
      "text/plain": [
       "0.799677618084832"
      ]
     },
     "execution_count": 4,
     "metadata": {},
     "output_type": "execute_result"
    }
   ],
   "source": [
    "np.random.rand()"
   ]
  },
  {
   "cell_type": "markdown",
   "metadata": {},
   "source": [
    "If you specify a length, it will return that many random numbers."
   ]
  },
  {
   "cell_type": "code",
   "execution_count": 5,
   "metadata": {
    "collapsed": false,
    "jupyter": {
     "outputs_hidden": false
    }
   },
   "outputs": [
    {
     "data": {
      "text/plain": [
       "array([0.6487639 , 0.17209866, 0.80792937, 0.30513797, 0.49728114,\n",
       "       0.22909067, 0.49631888, 0.42687259, 0.5103542 , 0.19961913])"
      ]
     },
     "execution_count": 5,
     "metadata": {},
     "output_type": "execute_result"
    }
   ],
   "source": [
    "np.random.rand(10)"
   ]
  },
  {
   "cell_type": "markdown",
   "metadata": {},
   "source": [
    "* np.random.rand(): generate a random number *normally distributed* with mean 0 and variance 1."
   ]
  },
  {
   "cell_type": "code",
   "execution_count": 6,
   "metadata": {
    "collapsed": false,
    "jupyter": {
     "outputs_hidden": false
    }
   },
   "outputs": [
    {
     "data": {
      "text/plain": [
       "array([ 3.07148496,  1.99760657, -0.0912822 ,  0.93359913,  0.23250073])"
      ]
     },
     "execution_count": 6,
     "metadata": {},
     "output_type": "execute_result"
    }
   ],
   "source": [
    "np.random.randn(5)"
   ]
  },
  {
   "cell_type": "markdown",
   "metadata": {},
   "source": [
    "* *np.min* and *np.max*: compute the minimum / maximum of a sequence of numbers."
   ]
  },
  {
   "cell_type": "code",
   "execution_count": 7,
   "metadata": {
    "collapsed": false,
    "jupyter": {
     "outputs_hidden": false
    }
   },
   "outputs": [
    {
     "data": {
      "text/plain": [
       "np.int64(0)"
      ]
     },
     "execution_count": 7,
     "metadata": {},
     "output_type": "execute_result"
    }
   ],
   "source": [
    "np.min(np.arange(10))"
   ]
  },
  {
   "cell_type": "code",
   "execution_count": 8,
   "metadata": {
    "collapsed": false,
    "jupyter": {
     "outputs_hidden": false
    }
   },
   "outputs": [
    {
     "data": {
      "text/plain": [
       "np.int64(3)"
      ]
     },
     "execution_count": 8,
     "metadata": {},
     "output_type": "execute_result"
    }
   ],
   "source": [
    "np.max([1, 3, 2, 0])"
   ]
  },
  {
   "cell_type": "markdown",
   "metadata": {},
   "source": [
    "* *np.clip*: clip values to a given range.\n",
    "\n",
    "    Given a value `v`, a lower bound `lower` and an upper bound `upper`, makes sure that `lower <= v <= upper`. "
   ]
  },
  {
   "cell_type": "code",
   "execution_count": 9,
   "metadata": {
    "collapsed": false,
    "jupyter": {
     "outputs_hidden": false
    }
   },
   "outputs": [
    {
     "data": {
      "text/plain": [
       "np.int64(3)"
      ]
     },
     "execution_count": 9,
     "metadata": {},
     "output_type": "execute_result"
    }
   ],
   "source": [
    "np.clip(3,  # value\n",
    "        0,  # lower bound\n",
    "        4)  # upper bound"
   ]
  },
  {
   "cell_type": "code",
   "execution_count": 10,
   "metadata": {
    "collapsed": false,
    "jupyter": {
     "outputs_hidden": false
    }
   },
   "outputs": [
    {
     "data": {
      "text/plain": [
       "np.int64(0)"
      ]
     },
     "execution_count": 10,
     "metadata": {},
     "output_type": "execute_result"
    }
   ],
   "source": [
    "np.clip(-1, 0, 4)"
   ]
  },
  {
   "cell_type": "code",
   "execution_count": 11,
   "metadata": {
    "collapsed": false,
    "jupyter": {
     "outputs_hidden": false
    }
   },
   "outputs": [
    {
     "data": {
      "text/plain": [
       "np.int64(4)"
      ]
     },
     "execution_count": 11,
     "metadata": {},
     "output_type": "execute_result"
    }
   ],
   "source": [
    "np.clip(5, 0, 4)"
   ]
  },
  {
   "cell_type": "code",
   "execution_count": 12,
   "metadata": {
    "collapsed": false,
    "jupyter": {
     "outputs_hidden": false
    }
   },
   "outputs": [
    {
     "data": {
      "text/plain": [
       "array([0, 1, 2, 3, 4, 5, 6, 7, 8, 9])"
      ]
     },
     "execution_count": 12,
     "metadata": {},
     "output_type": "execute_result"
    }
   ],
   "source": [
    "values = np.arange(10)\n",
    "values"
   ]
  },
  {
   "cell_type": "code",
   "execution_count": 13,
   "metadata": {
    "collapsed": false,
    "jupyter": {
     "outputs_hidden": false
    }
   },
   "outputs": [
    {
     "data": {
      "text/plain": [
       "array([3, 3, 3, 3, 4, 5, 5, 5, 5, 5])"
      ]
     },
     "execution_count": 13,
     "metadata": {},
     "output_type": "execute_result"
    }
   ],
   "source": [
    "np.clip(values, 3, 5)"
   ]
  },
  {
   "cell_type": "markdown",
   "metadata": {},
   "source": [
    "By default, `np.clip` returns a new array. It is possible to overwrite the original (input) array with the following syntax."
   ]
  },
  {
   "cell_type": "code",
   "execution_count": 14,
   "metadata": {
    "collapsed": false,
    "jupyter": {
     "outputs_hidden": false
    }
   },
   "outputs": [
    {
     "data": {
      "text/plain": [
       "array([3, 3, 3, 3, 4, 5, 5, 5, 5, 5])"
      ]
     },
     "execution_count": 14,
     "metadata": {},
     "output_type": "execute_result"
    }
   ],
   "source": [
    "np.clip(values, 3, 5, out=values)\n",
    "values"
   ]
  },
  {
   "cell_type": "markdown",
   "metadata": {},
   "source": [
    "* *np.argsort*: return the positions of the elements of an array from the smallest to the largest. "
   ]
  },
  {
   "cell_type": "code",
   "execution_count": 15,
   "metadata": {
    "collapsed": false,
    "jupyter": {
     "outputs_hidden": false
    }
   },
   "outputs": [
    {
     "data": {
      "text/plain": [
       "array([1, 2, 0])"
      ]
     },
     "execution_count": 15,
     "metadata": {},
     "output_type": "execute_result"
    }
   ],
   "source": [
    "numbers = np.array([3., 1., 2])\n",
    "np.argsort(numbers)"
   ]
  },
  {
   "cell_type": "markdown",
   "metadata": {},
   "source": [
    "This means that `numbers[1]` has the smallest value; then comes `numbers[2]`; and finally `numbers[0]`, which has also the largest value."
   ]
  },
  {
   "cell_type": "markdown",
   "metadata": {},
   "source": [
    "## Implementation"
   ]
  },
  {
   "cell_type": "markdown",
   "metadata": {},
   "source": [
    "### Step 1\n",
    "\n",
    "To develop our genetic algorithm for cars, we first need to decide how to represent their genome. Remember that the  blueprint of a car is defined by:\n",
    "* length;\n",
    "* upper shape;\n",
    "* lower shape;\n",
    "* left wheel position / size;\n",
    "* right wheel position / size.\n",
    "\n",
    "For instance:"
   ]
  },
  {
   "cell_type": "markdown",
   "metadata": {},
   "source": [
    "## Explanation Atefe: "
   ]
  },
  {
   "cell_type": "markdown",
   "metadata": {},
   "source": [
    "In a genetic algorithm, we treat each solution (a car, here) as a \"genome\" — a 1D array of values that represents everything about the car design."
   ]
  },
  {
   "cell_type": "code",
   "execution_count": 16,
   "metadata": {},
   "outputs": [],
   "source": [
    "blueprint = [\n",
    "    4.,  # length\n",
    "    np.array([.8, 1., 1., .5, .3]),  # upper profile\n",
    "    np.array([.3, .3, .3, .3, .3]),  # lower profile\n",
    "    np.array([.1, .5]),  # left wheel (position, size)\n",
    "    np.array([.9, .5]),  # right wheel (position, size)\n",
    "]"
   ]
  },
  {
   "cell_type": "markdown",
   "metadata": {},
   "source": [
    "This is not a genome, though. A genome is simply a flat sequence of numbers, just like an array. Example:"
   ]
  },
  {
   "cell_type": "code",
   "execution_count": 17,
   "metadata": {},
   "outputs": [],
   "source": [
    "genome = np.array([4., 1., 1., 1., 1., 1., .5, .5, .5, .5, .5, .1, 1., .9, 1.])"
   ]
  },
  {
   "cell_type": "markdown",
   "metadata": {},
   "source": [
    "Develop a pair of functions to:\n",
    "1. convert a blueprint like the above into the corresponding genome;\n",
    "1. convert the genome back into a blueprint."
   ]
  },
  {
   "cell_type": "code",
   "execution_count": 18,
   "metadata": {},
   "outputs": [],
   "source": [
    "def car_genome(car):\n",
    "    \"\"\"\n",
    "    Convert car blueprint to genome (1D np.array).\n",
    "    \"\"\"\n",
    "    frame_length = np.array([car[0]])\n",
    "    upper = car[1]\n",
    "    lower = car[2]\n",
    "    left = car[3]\n",
    "    right = car[4]\n",
    "    \n",
    "    genome = np.concatenate([frame_length, upper, lower, left, right])\n",
    "    return genome"
   ]
  },
  {
   "cell_type": "code",
   "execution_count": 19,
   "metadata": {},
   "outputs": [
    {
     "data": {
      "text/plain": [
       "array([4. , 0.8, 1. , 1. , 0.5, 0.3, 0.3, 0.3, 0.3, 0.3, 0.3, 0.1, 0.5,\n",
       "       0.9, 0.5])"
      ]
     },
     "execution_count": 19,
     "metadata": {},
     "output_type": "execute_result"
    }
   ],
   "source": [
    "car_genome(blueprint)"
   ]
  },
  {
   "cell_type": "code",
   "execution_count": 20,
   "metadata": {},
   "outputs": [],
   "source": [
    "def car_from_genome(genome):\n",
    "    \"\"\"\n",
    "    Convert genome (1D np.array) back to blueprint format.\n",
    "    \"\"\"\n",
    "    frame_length = genome[0]\n",
    "    upper = genome[1:6]\n",
    "    lower = genome[6:11]\n",
    "    left = genome[11:13]\n",
    "    right = genome[13:15]\n",
    "    \n",
    "    blueprint = [\n",
    "        frame_length,\n",
    "        upper,\n",
    "        lower,\n",
    "        left,\n",
    "        right\n",
    "    ]\n",
    "    return blueprint"
   ]
  },
  {
   "cell_type": "code",
   "execution_count": 21,
   "metadata": {},
   "outputs": [
    {
     "data": {
      "text/plain": [
       "[np.float64(4.0),\n",
       " array([1., 1., 1., 1., 1.]),\n",
       " array([0.5, 0.5, 0.5, 0.5, 0.5]),\n",
       " array([0.1, 1. ]),\n",
       " array([0.9, 1. ])]"
      ]
     },
     "execution_count": 21,
     "metadata": {},
     "output_type": "execute_result"
    }
   ],
   "source": [
    "car_from_genome(genome)"
   ]
  },
  {
   "cell_type": "markdown",
   "metadata": {},
   "source": [
    "### Step 2\n",
    "\n",
    "Initially, a genetic algorithm has no idea of which design would work the best for a given task. It creates blueprint totally at random.\n",
    "\n",
    "Complete the function below, which should return a random car blueprint.\n",
    "\n",
    "**Note**: not all random combinations of numbers are acceptable. For instance, the frame length must be comprised between 2 and 6 meters."
   ]
  },
  {
   "cell_type": "markdown",
   "metadata": {},
   "source": [
    "**Recap**\n",
    "\n",
    "Frame length must be in [2.0, 6.0]\n",
    "\n",
    "Upper shape: 5 floats\n",
    "\n",
    "Lower shape: 5 floats\n",
    "\n",
    "➤ Combined total height at each point (upper + lower) must be in [0.5, 5.0]\n",
    "\n",
    "Wheel positions: floats in [0.0, 1.0]\n",
    "\n",
    "Wheel radii: floats in [0.0, 2.0]"
   ]
  },
  {
   "cell_type": "code",
   "execution_count": 22,
   "metadata": {},
   "outputs": [],
   "source": [
    "def random_car():\n",
    "    frame_length = np.random.uniform(2.0, 6.0)\n",
    "    \n",
    "    # Generate valid upper/lower shapes\n",
    "    while True:\n",
    "        upper = np.random.uniform(0.0, 3.0, size=5)\n",
    "        lower = np.random.uniform(0.0, 2.0, size=5)\n",
    "        total = upper + lower\n",
    "        if np.all((0.5 <= total) & (total <= 5.0)):\n",
    "            break\n",
    "\n",
    "    # Generate wheels, ensure left is left of right\n",
    "    while True:\n",
    "        left_pos = np.random.rand()\n",
    "        right_pos = np.random.rand()\n",
    "        if left_pos < right_pos:\n",
    "            break\n",
    "\n",
    "    left = np.array([left_pos, np.random.uniform(0.0, 2.0)])\n",
    "    right = np.array([right_pos, np.random.uniform(0.0, 2.0)])\n",
    "\n",
    "    return [frame_length, upper, lower, left, right]\n"
   ]
  },
  {
   "cell_type": "markdown",
   "metadata": {},
   "source": [
    "Now generate a random car and simulate it.\n",
    "\n",
    "**Note**: what should you write in place of the ellipses below? Can you use the variable `car1` directly? Why? Is there any way to make it work?"
   ]
  },
  {
   "cell_type": "code",
   "execution_count": 23,
   "metadata": {
    "collapsed": false,
    "jupyter": {
     "outputs_hidden": false
    }
   },
   "outputs": [],
   "source": [
    "car1 = random_car()\n",
    "carsim.simulate(*car1)"
   ]
  },
  {
   "cell_type": "code",
   "execution_count": 24,
   "metadata": {},
   "outputs": [
    {
     "data": {
      "text/plain": [
       "[3.4907390908171023,\n",
       " array([1.76898273, 0.73887283, 0.81365558, 0.39929305, 2.67758998]),\n",
       " array([1.07603489, 0.67040588, 1.30043418, 1.57343767, 1.29537024]),\n",
       " array([0.15265237, 0.57387056]),\n",
       " array([0.62489535, 0.40855924])]"
      ]
     },
     "execution_count": 24,
     "metadata": {},
     "output_type": "execute_result"
    }
   ],
   "source": [
    "car1"
   ]
  },
  {
   "cell_type": "markdown",
   "metadata": {},
   "source": [
    "[4.3664917389344895,\n",
    " array([0.96386247, 0.24849133, 0.84172929, 0.30730235, 1.1393733 ]),\n",
    " array([0.13014457, 1.79371071, 1.22841169, 0.39929371, 0.59288133]),\n",
    " array([0.12555719, 1.23529497]),\n",
    " array([0.81229723, 1.21390012])]"
   ]
  },
  {
   "cell_type": "markdown",
   "metadata": {},
   "source": [
    "### Step 3\n",
    "\n",
    "We need to evaluate the fitness of our car, that is how good it was at completing the track.\n",
    "\n",
    "Try the following:"
   ]
  },
  {
   "cell_type": "code",
   "execution_count": 25,
   "metadata": {},
   "outputs": [
    {
     "data": {
      "text/plain": [
       "array([[0.0767062, 5.93333  ]])"
      ]
     },
     "execution_count": 25,
     "metadata": {},
     "output_type": "execute_result"
    }
   ],
   "source": [
    "carsim.race([car1])"
   ]
  },
  {
   "cell_type": "markdown",
   "metadata": {},
   "source": [
    "array([[ 1. , 17.2]])\n"
   ]
  },
  {
   "cell_type": "markdown",
   "metadata": {},
   "source": [
    "Here we are making a (boring) race with a single car. The interesting thing is that the `race` function returned two useful numbers:\n",
    "1. the fraction of the track that was completed by the car (0 is bad, 1 is good);\n",
    "1. the race time (as long as the car completed the track, lower means faster and thus better).\n",
    "\n",
    "If you make two cars race, you will get a pair of numbers for each car."
   ]
  },
  {
   "cell_type": "code",
   "execution_count": 26,
   "metadata": {},
   "outputs": [
    {
     "data": {
      "text/plain": [
       "array([[0.0767062, 5.93333  ],\n",
       "       [0.0630844, 5.26667  ]])"
      ]
     },
     "execution_count": 26,
     "metadata": {},
     "output_type": "execute_result"
    }
   ],
   "source": [
    "car2 = random_car()\n",
    "carsim.race([car1, car2])"
   ]
  },
  {
   "cell_type": "markdown",
   "metadata": {},
   "source": [
    "res = np.array([\n",
    "    [0.85, 12.7],   # car1: 85% of track completed, finished in 12.7 seconds\n",
    "    [1.00, 10.4]    # car2: 100% completed, faster time\n",
    "])"
   ]
  },
  {
   "cell_type": "markdown",
   "metadata": {},
   "source": [
    "### Step 4"
   ]
  },
  {
   "cell_type": "markdown",
   "metadata": {},
   "source": [
    "Things are starting to take shape. We now have a way to generate random cars and function to evaluate their respective fitness.\n",
    "\n",
    "The next logical step would be to generate an initial population of random cars (say 50) and then to identify the most primising ones.\n",
    "\n",
    "Complete the following functions:"
   ]
  },
  {
   "cell_type": "code",
   "execution_count": 27,
   "metadata": {},
   "outputs": [],
   "source": [
    "def initial_population(size):\n",
    "    cars = []\n",
    "    for _ in range(size):\n",
    "        car = random_car()\n",
    "        cars.append(car)\n",
    "    return cars"
   ]
  },
  {
   "cell_type": "code",
   "execution_count": 28,
   "metadata": {},
   "outputs": [
    {
     "name": "stdout",
     "output_type": "stream",
     "text": [
      "Generated initial population of 50 cars.\n"
     ]
    }
   ],
   "source": [
    "# Example usage\n",
    "population = initial_population(50)\n",
    "print(f\"Generated initial population of {len(population)} cars.\")\n"
   ]
  },
  {
   "cell_type": "markdown",
   "metadata": {},
   "source": [
    "### Step 5\n",
    "\n",
    "If you make your car population race, you will find somewhat difficult to find the best cars. Your task would probably be easier if the score returned by `carsim.race` would actually consist in a single number. You could simply sort everything from the largest value to the smallest. Here, on the other hand, you got two values for each car (fraction of the track covered, elapsed time).\n",
    "\n",
    "Leaving programming on the side for a moment, can you think of any reasonable approach to combine those two numbers? Would it make sense to simply sum the two of them? Is any of the two numbers redundant? Alternatively, is that the case only under certain conditions?\n",
    "\n",
    "When you have found a solution to this problem, complete the function below. `combined_score` should take the output of `carsim.race` and return an array of single‑number scores, one for each car."
   ]
  },
  {
   "cell_type": "markdown",
   "metadata": {},
   "source": [
    "[completion_fraction, time_to_finish]\n",
    "\n",
    "✅ Metric 1: Completion Fraction\n",
    "Most important!\n",
    "\n",
    "If a car didn't finish, the time is meaningless\n",
    "\n",
    "A car that finished 100% is better than one that did 99%, no matter how fast\n",
    "\n",
    "✅ Metric 2: Time (only relevant if car finished)\n",
    "Among finished cars, lower time is better\n"
   ]
  },
  {
   "cell_type": "markdown",
   "metadata": {},
   "source": [
    "if (completion < 1.0) -> use just the completion as the score.\n",
    "If a car did finish -> subtract the time from a large constant (e.g., 100) to reward speed."
   ]
  },
  {
   "cell_type": "code",
   "execution_count": 29,
   "metadata": {},
   "outputs": [],
   "source": [
    "def combined_scores(scores):\n",
    "    combined = []\n",
    "    for completion, time in scores:\n",
    "        if completion < 1.0:\n",
    "            score = completion  # didn't finish: use only track fraction\n",
    "        else:\n",
    "            score = 1.0 + (100.0 - time)  # finished: bonus + faster = better\n",
    "        combined.append(score)\n",
    "    return np.array(combined) # 1-D array of score numbers"
   ]
  },
  {
   "cell_type": "code",
   "execution_count": 30,
   "metadata": {},
   "outputs": [
    {
     "name": "stdout",
     "output_type": "stream",
     "text": [
      "[88.5 86.2  0.8]\n"
     ]
    }
   ],
   "source": [
    "import numpy as np\n",
    "\n",
    "# Sample race result for 3 cars\n",
    "scores = np.array([\n",
    "    [1.0, 12.5],   # finished\n",
    "    [1.0, 14.8],   # finished\n",
    "    [0.8, 17.2],   # not finished\n",
    "])\n",
    "\n",
    "print(combined_scores(scores))\n",
    "# Output: something like [88.5, 86.2, 0.8]\n"
   ]
  },
  {
   "cell_type": "markdown",
   "metadata": {},
   "source": [
    "Armed with this function, let's find out the best performing cars.\n",
    "\n",
    "Implement `select_best`, a function taking:\n",
    "1. a car population, as returned by `initial_population`;\n",
    "2. scores: the output of `carsim.race` on those cars;\n",
    "3. fraction: a number between 0 and 1.\n",
    "\n",
    "`select_best` should rank all the cars according to their score and return only the best ones. The exact number is determined by fraction: if it's .3, the function should return 30% of the original population size, picking only the best individuals."
   ]
  },
  {
   "cell_type": "code",
   "execution_count": 31,
   "metadata": {},
   "outputs": [],
   "source": [
    "def select_best(population, scores, fraction):\n",
    "    # Get 1D score array\n",
    "    combined = combined_scores(scores)\n",
    "    \n",
    "    # Sort indices from best to worst\n",
    "    sorted_indices = np.argsort(-combined)  # Negative for descending order\n",
    "    \n",
    "    # Compute how many to keep\n",
    "    n = int(len(population) * fraction)\n",
    "    \n",
    "    # Select top n cars\n",
    "    best = [population[i] for i in sorted_indices[:n]]\n",
    "    \n",
    "    return best"
   ]
  },
  {
   "cell_type": "code",
   "execution_count": 32,
   "metadata": {},
   "outputs": [
    {
     "name": "stdout",
     "output_type": "stream",
     "text": [
      "Selected 45 best cars.\n"
     ]
    }
   ],
   "source": [
    "# Example usage\n",
    "# Generate a population of 50 cars\n",
    "population = initial_population(50)\n",
    "\n",
    "# Run the race\n",
    "race_results = carsim.race(population)\n",
    "\n",
    "# Select the top 90% best cars\n",
    "best_cars = select_best(population, race_results, 0.9)\n",
    "\n",
    "print(f\"Selected {len(best_cars)} best cars.\")\n"
   ]
  },
  {
   "cell_type": "code",
   "execution_count": 33,
   "metadata": {},
   "outputs": [],
   "source": [
    "# for i, car in enumerate(best_cars):\n",
    "#     print(f\"Showing best car #{i + 1}\")\n",
    "#     carsim.simulate(*car)\n",
    "    \n",
    "#     # Optional: pause between cars\n",
    "#     input(\"Press Enter to show the next car...\")\n"
   ]
  },
  {
   "cell_type": "markdown",
   "metadata": {},
   "source": [
    "### Step 6\n",
    "\n",
    "Taking inspiration from biology, we have realized some sort of *selection* based on a fitness criterium.\n",
    "\n",
    "This is only half of our path towards a genetic algorithm. Now we want *evolution*. We want to simulate the mating of two individuals producing an offspring which displays some of the traits of each parent.\n",
    "\n",
    "Let's reach that goal in small steps. First of all implement the function `mate`. It should take as input two cars and it should generate a third one inheriting part of its genome from car 1 and part from car 2.\n",
    "\n",
    "**Note**: remember that in *Step 1* you have written two useful functions, `car_genome` and `car_from_genome`."
   ]
  },
  {
   "cell_type": "code",
   "execution_count": 34,
   "metadata": {},
   "outputs": [],
   "source": [
    "def mate(car1, car2):\n",
    "    # Convert cars to genomes\n",
    "    genome1 = car_genome(car1)\n",
    "    genome2 = car_genome(car2)\n",
    "\n",
    "    # Choose a crossover point (not at the very ends)\n",
    "    crossover_point = np.random.randint(1, len(genome1))\n",
    "\n",
    "    # Combine genes\n",
    "    child_genome = np.concatenate([\n",
    "        genome1[:crossover_point],\n",
    "        genome2[crossover_point:]\n",
    "    ])\n",
    "\n",
    "    # Convert genome back to car\n",
    "    car3 = car_from_genome(child_genome)\n",
    "\n",
    "    return car3\n"
   ]
  },
  {
   "cell_type": "markdown",
   "metadata": {},
   "source": [
    "Now make a small improvement to the above implementation: add some random mutation into the mix.\n",
    "\n",
    "Generate some (small) random values and add those to the genome of the offspring. Which random number should you use? What should the expected range of the random values be?"
   ]
  },
  {
   "cell_type": "code",
   "execution_count": 35,
   "metadata": {},
   "outputs": [],
   "source": [
    "def mate(car1, car2, mutation_strength=0.05):\n",
    "    # Convert cars to genomes\n",
    "    genome1 = car_genome(car1)\n",
    "    genome2 = car_genome(car2)\n",
    "\n",
    "    # Crossover\n",
    "    crossover_point = np.random.randint(1, len(genome1))\n",
    "    child_genome = np.concatenate([\n",
    "        genome1[:crossover_point],\n",
    "        genome2[crossover_point:]\n",
    "    ])\n",
    "\n",
    "    # Mutation: small Gaussian noise\n",
    "    mutation = mutation_strength * np.random.randn(len(child_genome))\n",
    "    child_genome += mutation\n",
    "\n",
    "    # Clip values to valid ranges\n",
    "    child_genome[0] = np.clip(child_genome[0], 2.0, 6.0)         # frame length\n",
    "    child_genome[1:6] = np.clip(child_genome[1:6], 0.0, None)    # upper\n",
    "    child_genome[6:11] = np.clip(child_genome[6:11], 0.0, None)  # lower\n",
    "    child_genome[11:13] = np.clip(child_genome[11:13], 0.0, 1.0) # wheel positions\n",
    "    child_genome[12] = np.clip(child_genome[12], 0.0, 2.0)       # left radius\n",
    "    child_genome[14] = np.clip(child_genome[14], 0.0, 2.0)       # right radius\n",
    "\n",
    "    # Convert back to car\n",
    "    child_car = car_from_genome(child_genome)\n",
    "\n",
    "    return child_car"
   ]
  },
  {
   "cell_type": "markdown",
   "metadata": {},
   "source": [
    "### Step 7\n",
    "\n",
    "If you take a close look to the output of the `mate` function updated with mutation, you will notice that it sometimes produces an invalid result. For instance, it may generate a frame length which is longer than 6 meters.\n",
    "\n",
    "Write a function `adjust_car` which:\n",
    "1. takes as input a car;\n",
    "2. if needed, alters its measures to make them compatible with the provided constraints;\n",
    "3. returns the adjusted car.\n",
    "\n",
    "For instance, in the above case (frame length > 6 meters) the `adjust_car` should reduce the frame length to 6 meters. All other measures may remain the same, as long as they are themeselves valid.\n",
    "\n",
    "**Note**: it may be easier to build `adjust_car` from smaller functions. Consider: `adjust_shapes` (which fixes the upper and lower shapes) and `adjust_wheel` (which fixes one wheel at a time)."
   ]
  },
  {
   "cell_type": "code",
   "execution_count": 36,
   "metadata": {},
   "outputs": [],
   "source": [
    "import numpy as np\n",
    "\n",
    "def adjust_car(car):\n",
    "    # Unpack car\n",
    "    frame_length, upper, lower, left, right = car\n",
    "\n",
    "    # 1. Adjust frame length\n",
    "    frame_length = np.clip(frame_length, 2.0, 6.0)\n",
    "\n",
    "    # 2. Adjust shapes\n",
    "    upper = upper.copy()\n",
    "    lower = lower.copy()\n",
    "    for i in range(5):\n",
    "        total = upper[i] + lower[i]\n",
    "        if total < 0.5:\n",
    "            delta = 0.5 - total\n",
    "            upper[i] += delta / 2\n",
    "            lower[i] += delta / 2\n",
    "        elif total > 5.0:\n",
    "            scale = 5.0 / total\n",
    "            upper[i] *= scale\n",
    "            lower[i] *= scale\n",
    "\n",
    "    # 3. Adjust wheels\n",
    "    left = left.copy()\n",
    "    right = right.copy()\n",
    "\n",
    "    left[0] = np.clip(left[0], 0.0, 1.0)\n",
    "    left[1] = np.clip(left[1], 0.0, 2.0)\n",
    "\n",
    "    right[0] = np.clip(right[0], 0.0, 1.0)\n",
    "    right[1] = np.clip(right[1], 0.0, 2.0)\n",
    "\n",
    "    # Ensure left wheel is to the left of right wheel\n",
    "    # Ensure left is to the left of right with minimum spacing\n",
    "    min_gap = 0.7\n",
    "    if left[0] >= right[0] - min_gap:\n",
    "        # Reposition wheels with gap\n",
    "        mid = (left[0] + right[0]) / 2\n",
    "        left[0] = np.clip(mid - min_gap / 2, 0.0, 1.0 - min_gap)\n",
    "        right[0] = np.clip(left[0] + min_gap, left[0] + min_gap, 1.0)\n",
    "    # # Optional: rebalance wheel sizes if needed\n",
    "    # ratio = max(left[1], right[1]) / (min(left[1], right[1]) + 1e-5)\n",
    "    # if ratio > 2.0:\n",
    "    #     avg = (left[1] + right[1]) / 2\n",
    "    #     left[1] = right[1] = np.clip(avg, 0.2, 2.0)\n",
    "\n",
    "\n",
    "    # 4. Return adjusted genome\n",
    "    updated_car = np.concatenate((\n",
    "        [frame_length],\n",
    "        upper,\n",
    "        lower,\n",
    "        left,\n",
    "        right\n",
    "    ))\n",
    "\n",
    "    return updated_car\n"
   ]
  },
  {
   "cell_type": "code",
   "execution_count": 37,
   "metadata": {},
   "outputs": [],
   "source": [
    "car = mate(car1, car2)\n",
    "adjusted_genome = adjust_car(car)\n",
    "adjusted_car = car_from_genome(adjusted_genome)\n",
    "\n",
    "carsim.simulate(*adjusted_car)  # ✅ Now it works\n"
   ]
  },
  {
   "cell_type": "markdown",
   "metadata": {},
   "source": [
    "### Step 8\n",
    "\n",
    "Time for the final touches.\n",
    "\n",
    "Write a `generation` function, to make the car population evolve by a single generation.\n",
    "\n",
    "It takes an initial population of size P (cars) as a single argument. It should then:\n",
    "1. make the cars race;\n",
    "2. collect their scores;\n",
    "3. select 30% of the best cars;\n",
    "4. build a new car generation of size P, using:\n",
    "   1. the 30% best cars selected above, say they are $N$ in number;\n",
    "   1. $N$ new individuals obtained by picking pairs of best cars at random and making them mate;\n",
    "   1. $P - 2N$ individuals generated totally at random (using again the function `initial_population`)."
   ]
  },
  {
   "cell_type": "code",
   "execution_count": 38,
   "metadata": {},
   "outputs": [],
   "source": [
    "def generation(cars):\n",
    "    P = len(cars)\n",
    "\n",
    "    # 1. Evaluate race performance\n",
    "    scores = carsim.race(cars)\n",
    "\n",
    "    # 2. Select best 30%\n",
    "    best = select_best(cars, scores, fraction=0.3)\n",
    "    N = len(best)\n",
    "\n",
    "    # 3. Mating step: generate N children by mating random best pairs\n",
    "    children = []\n",
    "    for _ in range(N):\n",
    "        parent1 = random.choice(best)\n",
    "        parent2 = random.choice(best)\n",
    "        child = mate(parent1, parent2)               # crossover + mutation\n",
    "        genome = adjust_car(child)                    # returns flat genome\n",
    "        child_car = car_from_genome(genome)           # back to blueprint\n",
    "        children.append(child_car)\n",
    "\n",
    "    # 4. Generate (P - 2N) random cars\n",
    "    random_cars = initial_population(P - 2 * N)\n",
    "\n",
    "    # 5. New generation: best + children + randoms\n",
    "    next_generation = best + children + random_cars\n",
    "\n",
    "    return next_generation\n"
   ]
  },
  {
   "cell_type": "code",
   "execution_count": 39,
   "metadata": {},
   "outputs": [
    {
     "name": "stdout",
     "output_type": "stream",
     "text": [
      "Generation 1\n",
      "Generation 2\n",
      "Generation 3\n",
      "Generation 4\n",
      "Generation 5\n",
      "Generation 6\n",
      "Generation 7\n",
      "Generation 8\n",
      "Generation 9\n",
      "Generation 10\n",
      "Top car 1\n",
      "Top car 2\n",
      "Top car 3\n",
      "Top car 4\n",
      "Top car 5\n"
     ]
    }
   ],
   "source": [
    "import random\n",
    "population = initial_population(50)\n",
    "\n",
    "for i in range(10):  # evolve for 10 generations\n",
    "    print(f\"Generation {i + 1}\")\n",
    "    population = generation(population)\n",
    "\n",
    "# Show final top 5\n",
    "top5 = select_best(population, carsim.race(population), 5 / len(population))\n",
    "for i, car in enumerate(top5):\n",
    "    print(f\"Top car {i+1}\")\n",
    "    carsim.simulate(*car)\n",
    "    input(\"Press Enter for next car...\")\n"
   ]
  },
  {
   "cell_type": "markdown",
   "metadata": {},
   "source": [
    "### Step 9\n",
    "\n",
    "Write `generations`, a functions that runs `generate` a specified number of times, returning the last available car generation."
   ]
  },
  {
   "cell_type": "code",
   "execution_count": 40,
   "metadata": {},
   "outputs": [],
   "source": [
    "def generations(cars, gen_num):\n",
    "    final_cars = cars\n",
    "    for i in range(gen_num):\n",
    "        print(f\"Generation {i + 1}\")\n",
    "        final_cars = generation(final_cars)\n",
    "    return final_cars"
   ]
  },
  {
   "cell_type": "markdown",
   "metadata": {},
   "source": [
    "### Step 10\n",
    "\n",
    "Everything is finally set.\n",
    "\n",
    "We make an initial population of 100 cars."
   ]
  },
  {
   "cell_type": "code",
   "execution_count": 41,
   "metadata": {
    "collapsed": false,
    "jupyter": {
     "outputs_hidden": false
    }
   },
   "outputs": [],
   "source": [
    "pop1 = initial_population(100)"
   ]
  },
  {
   "cell_type": "markdown",
   "metadata": {},
   "source": [
    "We select the best individual and simulate its race to get a feeling for how well it behaves."
   ]
  },
  {
   "cell_type": "code",
   "execution_count": 42,
   "metadata": {},
   "outputs": [],
   "source": [
    "best = select_best(pop1, carsim.race(pop1), .1)[0]"
   ]
  },
  {
   "cell_type": "code",
   "execution_count": 43,
   "metadata": {},
   "outputs": [],
   "source": [
    "carsim.simulate(*best)"
   ]
  },
  {
   "cell_type": "markdown",
   "metadata": {},
   "source": [
    "We let evolution and selection do their work for 30 generations, and check if they actually introduced an improvement."
   ]
  },
  {
   "cell_type": "code",
   "execution_count": 46,
   "metadata": {
    "collapsed": false,
    "jupyter": {
     "outputs_hidden": false
    }
   },
   "outputs": [
    {
     "name": "stdout",
     "output_type": "stream",
     "text": [
      "Generation 1\n",
      "Generation 2\n",
      "Generation 3\n",
      "Generation 4\n",
      "Generation 5\n",
      "Generation 6\n",
      "Generation 7\n",
      "Generation 8\n",
      "Generation 9\n",
      "Generation 10\n",
      "Generation 11\n",
      "Generation 12\n",
      "Generation 13\n",
      "Generation 14\n",
      "Generation 15\n",
      "Generation 16\n",
      "Generation 17\n",
      "Generation 18\n",
      "Generation 19\n",
      "Generation 20\n",
      "Generation 21\n",
      "Generation 22\n",
      "Generation 23\n",
      "Generation 24\n",
      "Generation 25\n",
      "Generation 26\n",
      "Generation 27\n",
      "Generation 28\n",
      "Generation 29\n",
      "Generation 30\n"
     ]
    }
   ],
   "source": [
    "popX = generations(pop1, 30)"
   ]
  },
  {
   "cell_type": "code",
   "execution_count": 55,
   "metadata": {
    "collapsed": false,
    "jupyter": {
     "outputs_hidden": false
    }
   },
   "outputs": [],
   "source": [
    "carsim.simulate(*select_best(popX, carsim.race(popX), .1)[0]);"
   ]
  },
  {
   "cell_type": "markdown",
   "metadata": {},
   "source": [
    "If at this point we haven't yet reached a satisfactory design, we let the system evolve for more generations."
   ]
  },
  {
   "cell_type": "code",
   "execution_count": null,
   "metadata": {
    "collapsed": false,
    "jupyter": {
     "outputs_hidden": false
    }
   },
   "outputs": [
    {
     "name": "stdout",
     "output_type": "stream",
     "text": [
      "Generation 1\n",
      "Generation 2\n",
      "Generation 3\n",
      "Generation 4\n",
      "Generation 5\n",
      "Generation 6\n",
      "Generation 7\n",
      "Generation 8\n",
      "Generation 9\n",
      "Generation 10\n",
      "Generation 11\n",
      "Generation 12\n",
      "Generation 13\n",
      "Generation 14\n",
      "Generation 15\n",
      "Generation 16\n",
      "Generation 17\n",
      "Generation 18\n",
      "Generation 19\n",
      "Generation 20\n",
      "Generation 21\n",
      "Generation 22\n",
      "Generation 23\n",
      "Generation 24\n",
      "Generation 25\n",
      "Generation 26\n",
      "Generation 27\n",
      "Generation 28\n",
      "Generation 29\n",
      "Generation 30\n"
     ]
    }
   ],
   "source": [
    "popX = generations(popX, 30)"
   ]
  },
  {
   "cell_type": "markdown",
   "metadata": {},
   "source": [
    "Notice like in the above code we evolved population X which was already the result of an evolution. If `popX` was originally 30 generation old, now it got 60 generations old."
   ]
  },
  {
   "cell_type": "markdown",
   "metadata": {},
   "source": [
    "### Step 11\n",
    "\n",
    "When you get a working car, try changing the track profile."
   ]
  },
  {
   "cell_type": "code",
   "execution_count": 54,
   "metadata": {
    "collapsed": false,
    "jupyter": {
     "outputs_hidden": false
    }
   },
   "outputs": [],
   "source": [
    "carsim.new_track()"
   ]
  },
  {
   "cell_type": "markdown",
   "metadata": {},
   "source": [
    "Is you car still fit for the new track? What does it mean if the car was good previously, but now that the track has changed is no longer working?"
   ]
  },
  {
   "cell_type": "markdown",
   "metadata": {},
   "source": [
    "Lil'Swell"
   ]
  },
  {
   "cell_type": "markdown",
   "metadata": {},
   "source": []
  }
 ],
 "metadata": {
  "kernelspec": {
   "display_name": ".venv",
   "language": "python",
   "name": "python3"
  },
  "language_info": {
   "codemirror_mode": {
    "name": "ipython",
    "version": 3
   },
   "file_extension": ".py",
   "mimetype": "text/x-python",
   "name": "python",
   "nbconvert_exporter": "python",
   "pygments_lexer": "ipython3",
   "version": "3.13.0"
  }
 },
 "nbformat": 4,
 "nbformat_minor": 4
}
